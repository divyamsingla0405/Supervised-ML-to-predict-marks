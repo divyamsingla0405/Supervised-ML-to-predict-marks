{
 "cells": [
  {
   "cell_type": "code",
   "execution_count": 27,
   "metadata": {},
   "outputs": [
    {
     "data": {
      "image/png": "[encoded data removed]",
      "text/plain": [
       "<Figure size 432x288 with 1 Axes>"
      ]
     },
     "metadata": {
      "needs_background": "light"
     },
     "output_type": "display_data"
    }
   ],
   "source": [
    "#Plotting the linear graph of Hours studied v/s Scores Obtained\n",
    "\n",
    "import pandas as pd\n",
    "import numpy as np  \n",
    "import matplotlib.pyplot as plot  \n",
    "%matplotlib inline\n",
    "\n",
    "data = pd.read_csv(\"https://raw.githubusercontent.com/AdiPersonalWorks/Random/master/student_scores%20-%20student_scores.csv\")\n",
    "\n",
    "data.plot(x ='Hours', y ='Scores',style='.')\n",
    "plot.show()\n"
   ]
  },
  {
   "cell_type": "code",
   "execution_count": 28,
   "metadata": {},
   "outputs": [
    {
     "name": "stdout",
     "output_type": "stream",
     "text": [
      "Data Preperation Complete\n"
     ]
    }
   ],
   "source": [
    "#In this step data is divided into attributes and labels and split into training and testing sets\n",
    "\n",
    "x = data.iloc[:, :-1].values  #Attribute\n",
    "y = data.iloc[:, 1].values    #Labels\n",
    "\n",
    "from sklearn.model_selection import train_test_split  \n",
    "x_train, x_test, y_train, y_test = train_test_split(x, y, test_size = 0.2, random_state = 42)\n",
    "\n",
    "print(\"Data Preperation Complete\")"
   ]
  },
  {
   "cell_type": "code",
   "execution_count": 29,
   "metadata": {},
   "outputs": [
    {
     "name": "stdout",
     "output_type": "stream",
     "text": [
      "Training complete\n"
     ]
    }
   ],
   "source": [
    "from sklearn.linear_model import LinearRegression  \n",
    "regression = LinearRegression()  \n",
    "regression.fit(x_train, y_train) \n",
    "\n",
    "print(\"Training complete\")\n"
   ]
  },
  {
   "cell_type": "code",
   "execution_count": 30,
   "metadata": {},
   "outputs": [
    {
     "data": {
      "image/png": "[encoded data removed]",
      "text/plain": [
       "<Figure size 432x288 with 1 Axes>"
      ]
     },
     "metadata": {
      "needs_background": "light"
     },
     "output_type": "display_data"
    }
   ],
   "source": [
    "#Plotting the regression line along with data\n",
    "r_line = regression.coef_*x + regression.intercept_\n",
    "\n",
    "plot.scatter(x, y)\n",
    "plot.plot(x, r_line);\n",
    "plot.show()"
   ]
  },
  {
   "cell_type": "code",
   "execution_count": 31,
   "metadata": {},
   "outputs": [
    {
     "name": "stdout",
     "output_type": "stream",
     "text": [
      "Both the sets are accurate with values :\n",
      "Test Set =  0.9678055545167994\n",
      "Training Set =  0.9491209376364417\n"
     ]
    }
   ],
   "source": [
    "# Checking the accuracy of our Training and Test DataSets\n",
    "\n",
    "\n",
    "print('Both the sets are accurate with values :')\n",
    "\n",
    "print('Test Set = ',regression.score(x_test, y_test))\n",
    "print('Training Set = ',regression.score(x_train, y_train))\n",
    "          "
   ]
  },
  {
   "cell_type": "code",
   "execution_count": 32,
   "metadata": {},
   "outputs": [
    {
     "name": "stdout",
     "output_type": "stream",
     "text": [
      "   Actual  Predicted\n",
      "0      81  83.188141\n",
      "1      30  27.032088\n",
      "2      21  27.032088\n",
      "3      76  69.633232\n",
      "4      62  59.951153\n"
     ]
    }
   ],
   "source": [
    "# Making Predictions from the Test Set\n",
    "\n",
    "prediction = regression.predict(x_test)\n",
    "\n",
    "# We can see the comparison between Actual Scores and Predicted Scores\n",
    "\n",
    "df = pd.DataFrame({'Actual': y_test, 'Predicted': prediction})  \n",
    "print(df)"
   ]
  },
  {
   "cell_type": "code",
   "execution_count": 33,
   "metadata": {},
   "outputs": [
    {
     "name": "stdout",
     "output_type": "stream",
     "text": [
      "Student studying for [[9.25]] hours will obtain [92.38611528] marks according to this model.\n"
     ]
    }
   ],
   "source": [
    "# Predicting the Marks for user provides hours of study\n",
    "\n",
    "hours = [[9.25]] \n",
    "myprediction = regression.predict(hours)\n",
    "print('Student studying for',hours,'hours will obtain',myprediction,'marks according to this model.')"
   ]
  },
  {
   "cell_type": "code",
   "execution_count": null,
   "metadata": {},
   "outputs": [],
   "source": []
  }
 ],
 "metadata": {
  "kernelspec": {
   "display_name": "Python 3",
   "language": "python",
   "name": "python3"
  },
  "language_info": {
   "codemirror_mode": {
    "name": "ipython",
    "version": 3
   },
   "file_extension": ".py",
   "mimetype": "text/x-python",
   "name": "python",
   "nbconvert_exporter": "python",
   "pygments_lexer": "ipython3",
   "version": "3.7.3"
  }
 },
 "nbformat": 4,
 "nbformat_minor": 2
}
